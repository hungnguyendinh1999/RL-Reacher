{
 "cells": [
  {
   "cell_type": "markdown",
   "metadata": {},
   "source": []
  },
  {
   "cell_type": "code",
   "execution_count": null,
   "metadata": {},
   "outputs": [],
   "source": [
    "import pandas as pd\n",
    "import matplotlib.pyplot as plt"
   ]
  },
  {
   "cell_type": "code",
   "execution_count": null,
   "metadata": {},
   "outputs": [],
   "source": [
    "\n",
    "df = pd.read_csv(\"results.csv\")\n",
    "plt.figure(figsize=(6,4))\n",
    "(df.groupby(\"variant\")[\"success_rate\"]\n",
    "   .mean().plot(kind=\"bar\", rot=0, ylabel=\"Success rate\"))\n",
    "plt.title(\"Success rate (distance < 0.02 m)   –   50 eval eps\")\n",
    "plt.tight_layout()\n",
    "plt.savefig(\"success_rate.png\", dpi=150)\n",
    "print(\"Saved success_rate.png\")"
   ]
  }
 ],
 "metadata": {
  "language_info": {
   "name": "python"
  }
 },
 "nbformat": 4,
 "nbformat_minor": 2
}
